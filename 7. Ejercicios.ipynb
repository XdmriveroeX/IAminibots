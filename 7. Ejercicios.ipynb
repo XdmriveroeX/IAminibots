{
 "cells": [
  {
   "cell_type": "markdown",
   "metadata": {},
   "source": [
    "### 5. Resumen Automático de Texto: \n",
    "Utilizar un modelo Transformer para crear un\n",
    "sistema de resumen automático de texto. El modelo debe ser capaz de leer un\n",
    "documento largo y resumirlo en unas pocas oraciones."
   ]
  },
  {
   "cell_type": "markdown",
   "metadata": {},
   "source": []
  },
  {
   "cell_type": "code",
   "execution_count": 9,
   "metadata": {},
   "outputs": [
    {
     "name": "stdout",
     "output_type": "stream",
     "text": [
      "Requirement already satisfied: openai in c:\\users\\dmriv\\appdata\\local\\programs\\python\\python312\\lib\\site-packages (1.16.2)\n",
      "Requirement already satisfied: anyio<5,>=3.5.0 in c:\\users\\dmriv\\appdata\\local\\programs\\python\\python312\\lib\\site-packages (from openai) (4.3.0)\n",
      "Requirement already satisfied: distro<2,>=1.7.0 in c:\\users\\dmriv\\appdata\\local\\programs\\python\\python312\\lib\\site-packages (from openai) (1.9.0)\n",
      "Requirement already satisfied: httpx<1,>=0.23.0 in c:\\users\\dmriv\\appdata\\local\\programs\\python\\python312\\lib\\site-packages (from openai) (0.27.0)\n",
      "Requirement already satisfied: pydantic<3,>=1.9.0 in c:\\users\\dmriv\\appdata\\local\\programs\\python\\python312\\lib\\site-packages (from openai) (2.6.4)\n",
      "Requirement already satisfied: sniffio in c:\\users\\dmriv\\appdata\\local\\programs\\python\\python312\\lib\\site-packages (from openai) (1.3.1)\n",
      "Requirement already satisfied: tqdm>4 in c:\\users\\dmriv\\appdata\\local\\programs\\python\\python312\\lib\\site-packages (from openai) (4.66.2)\n",
      "Requirement already satisfied: typing-extensions<5,>=4.7 in c:\\users\\dmriv\\appdata\\local\\programs\\python\\python312\\lib\\site-packages (from openai) (4.11.0)\n",
      "Requirement already satisfied: idna>=2.8 in c:\\users\\dmriv\\appdata\\local\\programs\\python\\python312\\lib\\site-packages (from anyio<5,>=3.5.0->openai) (3.6)\n",
      "Requirement already satisfied: certifi in c:\\users\\dmriv\\appdata\\local\\programs\\python\\python312\\lib\\site-packages (from httpx<1,>=0.23.0->openai) (2024.2.2)\n",
      "Requirement already satisfied: httpcore==1.* in c:\\users\\dmriv\\appdata\\local\\programs\\python\\python312\\lib\\site-packages (from httpx<1,>=0.23.0->openai) (1.0.5)\n",
      "Requirement already satisfied: h11<0.15,>=0.13 in c:\\users\\dmriv\\appdata\\local\\programs\\python\\python312\\lib\\site-packages (from httpcore==1.*->httpx<1,>=0.23.0->openai) (0.14.0)\n",
      "Requirement already satisfied: annotated-types>=0.4.0 in c:\\users\\dmriv\\appdata\\local\\programs\\python\\python312\\lib\\site-packages (from pydantic<3,>=1.9.0->openai) (0.6.0)\n",
      "Requirement already satisfied: pydantic-core==2.16.3 in c:\\users\\dmriv\\appdata\\local\\programs\\python\\python312\\lib\\site-packages (from pydantic<3,>=1.9.0->openai) (2.16.3)\n",
      "Requirement already satisfied: colorama in c:\\users\\dmriv\\appdata\\roaming\\python\\python312\\site-packages (from tqdm>4->openai) (0.4.6)\n",
      "Note: you may need to restart the kernel to use updated packages.\n"
     ]
    }
   ],
   "source": [
    "pip install openai"
   ]
  },
  {
   "cell_type": "code",
   "execution_count": 12,
   "metadata": {},
   "outputs": [
    {
     "name": "stdout",
     "output_type": "stream",
     "text": [
      "Resumen: El documento detalla los principales aspectos y características de la ciencia. Define a la ciencia como un cuerpo creciente de ideas que se caracteriza por ser un conocimiento racional, sistemático, exacto, verificable y falible, producto de la interpretación y comprensión humana del mundo. Discute la diferencia entre ciencias formales (como la matemática y la lógica) y ciencias fácticas (que se basan en la experiencia empírica), las primeras se basan en entidades ideales y son verificables pero no objetivas, mientras que las segundas se refieren a sucesos y procesos, y necesitan de la observación y/o experimento para verificar sus hipótesis. Por último, señala que la ciencia es analítica y se especializa en problemas específicos, pero debe mantener una coherencia y unidad metodológica.\n"
     ]
    }
   ],
   "source": [
    "import openai\n",
    "import os\n",
    "\n",
    "openai.api_key = os.getenv(\"OPENAI_API_KEY\")\n",
    "\n",
    "def resumir_texto_con_chat_gpt(documento, model=\"gpt-4\"):\n",
    "    \n",
    "    response = openai.ChatCompletion.create(\n",
    "        model=model,\n",
    "        messages=[\n",
    "            {\"role\": \"system\", \"content\": \"Tu tarea es resumir el siguiente documento en unas pocas oraciones.\"},\n",
    "            {\"role\": \"user\", \"content\": f\"Documento: {documento}\"}\n",
    "        ]\n",
    "    )\n",
    "    \n",
    "    # Devuelve el texto del resumen generado\n",
    "    return response['choices'][0]['message']['content']\n",
    "\n",
    "# abrir el archivo textoMarioBunge.txt\n",
    "documento_largo = open(\"textoMarioBunge.txt\", \"r\").read()\n",
    "\n",
    "resumen = resumir_texto_con_chat_gpt(documento_largo, model=\"gpt-4\") \n",
    "print(\"Resumen:\", resumen)"
   ]
  },
  {
   "cell_type": "markdown",
   "metadata": {},
   "source": [
    "### Analizador de sentimientos en texto\n",
    "\n",
    " Procesamiento de Lenguaje Natural (NLP): Realizar tareas de procesamiento de\n",
    "lenguaje natural como análisis de sentimiento utilizando modelos Transformer preentrenados."
   ]
  },
  {
   "cell_type": "code",
   "execution_count": 17,
   "metadata": {},
   "outputs": [
    {
     "name": "stdout",
     "output_type": "stream",
     "text": [
      "Análisis de Sentimiento: El sentimiento del texto es positivo.\n"
     ]
    }
   ],
   "source": [
    "import openai\n",
    "\n",
    "\n",
    "def analizar_sentimiento_con_chat_gpt(texto, model=\"gpt-4\"):\n",
    "    \n",
    "    response = openai.ChatCompletion.create(\n",
    "        model=model,\n",
    "        messages=[\n",
    "            {\"role\": \"system\", \"content\": \"analizar el sentimiento del siguiente texto y determinar si es positivo, negativo o neutral.\"},\n",
    "            {\"role\": \"user\", \"content\": texto}\n",
    "        ]\n",
    "    )\n",
    "    \n",
    "    \n",
    "    return response.choices[0].message['content']\n",
    "\n",
    "# Ejemplo de uso\n",
    "texto = \"Me siento muy feliz hoy, todo está yendo de maravilla!\"\n",
    "\n",
    "sentimiento = analizar_sentimiento_con_chat_gpt(texto, model=\"gpt-4\") \n",
    "print(\"Análisis de Sentimiento:\", sentimiento)\n"
   ]
  }
 ],
 "metadata": {
  "kernelspec": {
   "display_name": "Python 3",
   "language": "python",
   "name": "python3"
  },
  "language_info": {
   "codemirror_mode": {
    "name": "ipython",
    "version": 3
   },
   "file_extension": ".py",
   "mimetype": "text/x-python",
   "name": "python",
   "nbconvert_exporter": "python",
   "pygments_lexer": "ipython3",
   "version": "3.12.2"
  }
 },
 "nbformat": 4,
 "nbformat_minor": 2
}
