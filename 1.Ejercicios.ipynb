{
 "cells": [
  {
   "cell_type": "markdown",
   "metadata": {},
   "source": [
    "# 1. Ejercicios\n",
    "\n",
    "## 1.1 De una definición propia de inteligencia artificial.\n",
    "\n",
    "Para mí, en este momento, la inteligencia artificial es todo aquel sistema creado por los humanos que busca simular la inteligencia de los seres naturales. Esto con el fin de poder solucionar problemas que tradicionalmente solo se podían resolver por seres inteligentes. La inteligencia artificial abarca problemas sobre cómo se aprenden cosas nuevas, cómo tomar decisiones razonables, cómo se percibe el mundo y muchas cosas más.\n"
   ]
  },
  {
   "cell_type": "markdown",
   "metadata": {},
   "source": [
    "## 1.2 Vea el video que se encuentra en\n",
    "\n",
    "Para ver el video, haga clic en el siguiente enlace: [Ver Video](https://www.youtube.com/watch?v=JsmKUCiPHUY&t=7s)\n",
    "\n",
    "### Análisis del Video\n",
    "\n",
    "El video hace una exposición sobre 2 temas en el área de la inteligencia artificial. Primero se abarca el tema de los **Xenobots** y luego sobre la venta de la apariencia de una persona con el fin de ser usado como una máscara para robots. El video hace un trabajo decente de exponer ambas ideas; sin embargo, es imposible no notar el tono con el cual hacen estas exposiciones. Es evidente que en los noticieros de esta índole, el miedo vende más que el optimismo. Se hacen muchas referencias a los peores casos en donde estas tecnologías se usan para el mal y se minimizan sus posibles beneficios.\n",
    "\n",
    "Podemos ver a los Xenobots mencionados en el video como un tipo de sistema simple basado en los autómatas celulares. Estos Xenobots son creados con ciertos comportamientos pre-programados; sin embargo, al estar en un entorno con otros Xenobots, demuestran nuevos comportamientos llamados comportamientos emergentes. Estos comportamientos son clave en el estudio y creación de estos tipos de sistemas. Estudiarlos y entenderlos nos ayudarán a combatir enfermedades, crear nuevas tecnologías y muchas otras cosas más.\n",
    "\n",
    "Me parece incorrecto abordar este tema de la manera en que lo hace este video, donde todo se ve a través de un filtro de miedo e ignorancia. Esto puede tener un gran impacto en la percepción de estas tecnologías y, por ende, pueden terminar siendo vistas como un tema tabú y de no ser estudiado. Aunque entiendo sus preocupaciones al respecto, tales como la posibilidad de que esta tecnología pueda ser usada para el mal, siento que esto se podría decir sobre cualquier tipo de tecnología. Al final del día, la responsabilidad recae en los individuos que deciden cómo utilizarla y en los gobiernos para desincentivar su uso equivocado.\n"
   ]
  },
  {
   "cell_type": "markdown",
   "metadata": {},
   "source": [
    "## 1.3 Investigue sobre los planes del gobierno con respecto a la IA\n",
    "\n",
    "Según el gobierno, estos son sus objetivos para la IA en Colombia:\n",
    "\n",
    "- **Definir mecanismos y herramientas para acelerar la implementación de la Estrategia de IA de Colombia y del Marco Ético de Inteligencia Artificial**, entre otras iniciativas.\n",
    "- **Asegurar el seguimiento de los proyectos de las entidades públicas que están utilizando sistemas de IA para prestar un servicio más eficiente y eficaz a los ciudadanos.**\n",
    "- **Incrementar la cooperación y coordinación internacional con gobiernos y entidades internacionales relacionadas con la política de IA** para lograr la adecuada implementación de la estrategia de IA en Colombia.\n",
    "- **Desarrollar mecanismos para fomentar el acceso y uso de datos para el diseño y desarrollo de sistemas de IA.**\n",
    "- **Incrementar la colaboración con el sector privado y el ecosistema de emprendimiento en temas relacionados con la IA.**\n",
    "\n",
    "Para más información, visite el sitio web de la estrategia de IA del gobierno: [https://inteligenciaartificial.gov.co/](https://inteligenciaartificial.gov.co/)\n",
    "\n"
   ]
  }
 ],
 "metadata": {
  "kernelspec": {
   "display_name": "Python 3",
   "language": "python",
   "name": "python3"
  },
  "language_info": {
   "codemirror_mode": {
    "name": "ipython",
    "version": 3
   },
   "file_extension": ".py",
   "mimetype": "text/x-python",
   "name": "python",
   "nbconvert_exporter": "python",
   "pygments_lexer": "ipython3",
   "version": "3.12.2"
  }
 },
 "nbformat": 4,
 "nbformat_minor": 2
}
