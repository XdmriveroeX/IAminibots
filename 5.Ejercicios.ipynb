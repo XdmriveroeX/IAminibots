{
 "cells": [
  {
   "cell_type": "markdown",
   "metadata": {},
   "source": [
    "### 1. Predecir el valor del dolar utilizando una red neuronal\n",
    "\n",
    "Resolver el problema de predecir el valor del dólar, que se planteó en el capítulo\n",
    "anterior, utilizando una red neuronal. Describir las diferencias entre un modelo de\n",
    "entrenamiento y el otro"
   ]
  },
  {
   "cell_type": "code",
   "execution_count": 2,
   "metadata": {},
   "outputs": [
    {
     "name": "stdout",
     "output_type": "stream",
     "text": [
      "Requirement already satisfied: pandas in c:\\users\\dmriv\\appdata\\local\\programs\\python\\python312\\lib\\site-packages (2.2.1)\n",
      "Requirement already satisfied: numpy<2,>=1.26.0 in c:\\users\\dmriv\\appdata\\local\\programs\\python\\python312\\lib\\site-packages (from pandas) (1.26.4)\n",
      "Requirement already satisfied: python-dateutil>=2.8.2 in c:\\users\\dmriv\\appdata\\roaming\\python\\python312\\site-packages (from pandas) (2.8.2)\n",
      "Requirement already satisfied: pytz>=2020.1 in c:\\users\\dmriv\\appdata\\local\\programs\\python\\python312\\lib\\site-packages (from pandas) (2024.1)\n",
      "Requirement already satisfied: tzdata>=2022.7 in c:\\users\\dmriv\\appdata\\local\\programs\\python\\python312\\lib\\site-packages (from pandas) (2024.1)\n",
      "Requirement already satisfied: six>=1.5 in c:\\users\\dmriv\\appdata\\roaming\\python\\python312\\site-packages (from python-dateutil>=2.8.2->pandas) (1.16.0)\n",
      "Note: you may need to restart the kernel to use updated packages.\n"
     ]
    }
   ],
   "source": [
    "%pip install pandas"
   ]
  },
  {
   "cell_type": "code",
   "execution_count": 7,
   "metadata": {},
   "outputs": [
    {
     "name": "stderr",
     "output_type": "stream",
     "text": [
      "C:\\Users\\dmriv\\AppData\\Local\\Temp\\ipykernel_2984\\179312154.py:48: FutureWarning: DataFrame.interpolate with object dtype is deprecated and will raise in a future version. Call obj.infer_objects(copy=False) before interpolating instead.\n",
      "  datos_completos = datos_combinados.interpolate().dropna()\n"
     ]
    },
    {
     "name": "stdout",
     "output_type": "stream",
     "text": [
      "MSE: 76677.19990005113, R^2: 0.8954941716314369, RMSE: 276.9064822282987\n"
     ]
    },
    {
     "name": "stderr",
     "output_type": "stream",
     "text": [
      "c:\\Users\\dmriv\\AppData\\Local\\Programs\\Python\\Python312\\Lib\\site-packages\\sklearn\\neural_network\\_multilayer_perceptron.py:691: ConvergenceWarning: Stochastic Optimizer: Maximum iterations (500) reached and the optimization hasn't converged yet.\n",
      "  warnings.warn(\n"
     ]
    }
   ],
   "source": [
    "import pandas as pd\n",
    "from sklearn.model_selection import train_test_split\n",
    "from sklearn.neural_network import MLPRegressor\n",
    "from sklearn.preprocessing import StandardScaler\n",
    "from sklearn.pipeline import make_pipeline\n",
    "from sklearn.metrics import mean_squared_error, r2_score\n",
    "import numpy as np\n",
    "\n",
    "def limpiar_y_convertir_a_float(df, columnas):\n",
    "    for columna in columnas:\n",
    "        df[columna] = df[columna].str.replace('.', '').str.replace(',', '.').astype(float)\n",
    "    return df\n",
    "\n",
    "# Cargar los datos\n",
    "bancolombia_df = pd.read_csv('Datos históricos BIC (1).csv')\n",
    "ecopetrol_df = pd.read_csv('Datos históricos ECO (2).csv')\n",
    "petroleo_df = pd.read_csv('Datos históricos Futuros petróleo Brent.csv')\n",
    "tasa_cambio_df = pd.read_csv('Tasa_de_Cambio_Representativa_del__Mercado_-Historico_20240404 (1).csv')\n",
    "\n",
    "columnas_para_convertir = ['Último', 'Apertura', 'Máximo', 'Mínimo'] \n",
    "\n",
    "bancolombia_df = limpiar_y_convertir_a_float(bancolombia_df, columnas_para_convertir)\n",
    "ecopetrol_df = limpiar_y_convertir_a_float(ecopetrol_df, columnas_para_convertir)\n",
    "petroleo_df = limpiar_y_convertir_a_float(petroleo_df, columnas_para_convertir)\n",
    "\n",
    "# Asegurándonos de que las fechas estén en formato uniforme\n",
    "bancolombia_df['Fecha'] = pd.to_datetime(bancolombia_df['Fecha'], format='%d.%m.%Y').dt.strftime('%Y-%m-%d')\n",
    "ecopetrol_df['Fecha'] = pd.to_datetime(ecopetrol_df['Fecha'], format='%d.%m.%Y').dt.strftime('%Y-%m-%d')\n",
    "petroleo_df['Fecha'] = pd.to_datetime(petroleo_df['Fecha'], format='%d.%m.%Y').dt.strftime('%Y-%m-%d')\n",
    "tasa_cambio_df['Fecha'] = pd.to_datetime(tasa_cambio_df['VIGENCIADESDE'], format='%d/%m/%Y').dt.strftime('%Y-%m-%d')\n",
    "\n",
    "bancolombia_precios = bancolombia_df[['Fecha', 'Último']].rename(columns={'Último': 'Precio_Bancolombia'})\n",
    "ecopetrol_precios = ecopetrol_df[['Fecha', 'Último']].rename(columns={'Último': 'Precio_Ecopetrol'})\n",
    "petroleo_precios = petroleo_df[['Fecha', 'Último']].rename(columns={'Último': 'Precio_Petroleo'})\n",
    "tasa_cambio = tasa_cambio_df[['Fecha', 'VALOR']].rename(columns={'VALOR': 'Tasa_Cambio'})\n",
    "\n",
    "# Combinando los dataframes\n",
    "datos_combinados = pd.merge(bancolombia_precios, ecopetrol_precios, on='Fecha', how='outer')\n",
    "datos_combinados = pd.merge(datos_combinados, petroleo_precios, on='Fecha', how='outer')\n",
    "datos_combinados = pd.merge(datos_combinados, tasa_cambio, on='Fecha', how='outer')\n",
    "\n",
    "# Ordenando los datos por fecha\n",
    "datos_combinados = datos_combinados.sort_values('Fecha')\n",
    "\n",
    "\n",
    "\n",
    "# Interpolación y eliminación de filas con valores faltantes\n",
    "datos_completos = datos_combinados.interpolate().dropna()\n",
    "\n",
    "# Definir las variables X e y\n",
    "X = datos_completos[['Precio_Bancolombia', 'Precio_Ecopetrol', 'Precio_Petroleo']]\n",
    "y = datos_completos['Tasa_Cambio']\n",
    "\n",
    "# Dividir los datos en conjuntos de entrenamiento y prueba\n",
    "X_train, X_test, y_train, y_test = train_test_split(X, y, test_size=0.2, random_state=42)\n",
    "\n",
    "# Crear y entrenar el modelo de red neuronal\n",
    "nn_model = make_pipeline(StandardScaler(), MLPRegressor(hidden_layer_sizes=(100, 50), activation='relu', random_state=42, max_iter=500))\n",
    "nn_model.fit(X_train, y_train)\n",
    "\n",
    "# Predicciones y evaluación\n",
    "y_pred = nn_model.predict(X_test)\n",
    "mse = mean_squared_error(y_test, y_pred)\n",
    "r2 = r2_score(y_test, y_pred)\n",
    "rmse = np.sqrt(mse)\n",
    "\n",
    "print(f'MSE: {mse}, R^2: {r2}, RMSE: {rmse}')\n"
   ]
  },
  {
   "cell_type": "markdown",
   "metadata": {},
   "source": [
    "MSE (Error Cuadrático Medio): 76,677.20. Un valor más bajo indica un mejor ajuste.\n",
    "\n",
    "R² (Coeficiente de Determinación): 0.895. Esta es una métrica clave que indica cuánta variabilidad de tus datos puede ser explicada por el modelo.valor de 0.895 sugiere que el modelo explica aproximadamente el 89.5% de la variabilidad, lo cual es bastante bueno.\n",
    "\n",
    "RMSE (Raíz del Error Cuadrático Medio): 276.91. Esta métrica ofrece una medida de la magnitud del error, proporcionando una idea de cuán grandes son los errores en términos de las unidades originales de los datos"
   ]
  }
 ],
 "metadata": {
  "kernelspec": {
   "display_name": "Python 3",
   "language": "python",
   "name": "python3"
  },
  "language_info": {
   "codemirror_mode": {
    "name": "ipython",
    "version": 3
   },
   "file_extension": ".py",
   "mimetype": "text/x-python",
   "name": "python",
   "nbconvert_exporter": "python",
   "pygments_lexer": "ipython3",
   "version": "3.12.2"
  }
 },
 "nbformat": 4,
 "nbformat_minor": 2
}
